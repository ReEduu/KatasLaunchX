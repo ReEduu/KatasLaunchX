{
 "cells": [
  {
   "cell_type": "code",
   "execution_count": 17,
   "metadata": {},
   "outputs": [
    {
     "name": "stdout",
     "output_type": "stream",
     "text": [
      " \n",
      "On average, the Moon moves 4cm away from the Earth every year\n",
      " The highest daylight temperature of the Moon is 127 Celsius\n"
     ]
    }
   ],
   "source": [
    "text = \"\"\"Interesting facts about the Moon. The Moon is Earth's only satellite. There are several interesting facts about the Moon and how it affects life here on Earth. \n",
    "On average, the Moon moves 4cm away from the Earth every year. This yearly drift is not significant enough to cause immediate effects on Earth. The highest daylight temperature of the Moon is 127 C.\"\"\"\n",
    "\n",
    "text.split(\".\")\n",
    "\n",
    "palabras = [\"average\", \"temperature\", \"distance\"]\n",
    "\n",
    "for item in text.split(\".\"):\n",
    "    for palabra in palabras:\n",
    "        if palabra in item:\n",
    "            print(item.replace('C','Celsius'))\n"
   ]
  },
  {
   "cell_type": "markdown",
   "metadata": {},
   "source": [
    "EJERCICIO 2"
   ]
  },
  {
   "cell_type": "code",
   "execution_count": 25,
   "metadata": {},
   "outputs": [
    {
     "name": "stdout",
     "output_type": "stream",
     "text": [
      "Gravity Facts About Earth  \n",
      "--------------------------------------------------------------------------------\n",
      " Nombre del planeta: Earth \n",
      " Gravedad en Moon: 1.6199999999999999 m/s2\n",
      " \n",
      "\n",
      "Gravity Facts About Earth  \n",
      "--------------------------------------------------------------------------------\n",
      " Nombre del planeta: Earth \n",
      " Gravedad en Moon: 1.6199999999999999 m/s2\n",
      " \n",
      "\n",
      "\n",
      "Datos de Gravedad sobre: Ganímedes\n",
      "-------------------------------------------------------------------------------\n",
      " Nombre del planeta: Marte \n",
      " Gravedad en Ganímedes: 0.00143 m/s2\n",
      "\n"
     ]
    }
   ],
   "source": [
    "name = \"Moon\"\n",
    "gravity = 0.00162 # in kms\n",
    "planet = \"Earth\"\n",
    "\n",
    "titulo = f'Gravity Facts about {planet}'\n",
    "\n",
    "plantilla = f\" \\n{'-'*80}\\n Nombre del planeta: {planet} \\n Gravedad en {name}: {gravity * 1000} m/s2\\n\"\n",
    "\n",
    "union =  f\"{titulo.title()} {plantilla} \\n\"\n",
    "print(union)\n",
    "\n",
    "\n",
    "planeta = 'Marte '\n",
    "gravedad  = 0.00143\n",
    "nombre = 'Ganímedes'\n",
    "\n",
    "print(union)\n",
    "\n",
    "gravedad = gravedad*1000;\n",
    "plantilla_2 = \"\\nDatos de Gravedad sobre: {nombre}\\n-------------------------------------------------------------------------------\\n Nombre del planeta: {planeta}\\n Gravedad en {nombre}: {gravedad} m/s2\\n\"\n",
    "print(plantilla_2.format(nombre=nombre, planeta=planeta, gravedad=gravedad))\n"
   ]
  }
 ],
 "metadata": {
  "interpreter": {
   "hash": "1ccb0b23994abc472eff99ded0025451a0ae66ae4b925ffbd72741eb51da7773"
  },
  "kernelspec": {
   "display_name": "Python 3.10.2 64-bit",
   "language": "python",
   "name": "python3"
  },
  "language_info": {
   "codemirror_mode": {
    "name": "ipython",
    "version": 3
   },
   "file_extension": ".py",
   "mimetype": "text/x-python",
   "name": "python",
   "nbconvert_exporter": "python",
   "pygments_lexer": "ipython3",
   "version": "3.10.2"
  },
  "orig_nbformat": 4
 },
 "nbformat": 4,
 "nbformat_minor": 2
}
