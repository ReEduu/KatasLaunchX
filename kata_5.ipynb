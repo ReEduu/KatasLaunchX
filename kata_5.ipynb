{
 "cells": [
  {
   "cell_type": "markdown",
   "metadata": {},
   "source": [
    "Ejercicio 1"
   ]
  },
  {
   "cell_type": "code",
   "execution_count": 3,
   "metadata": {},
   "outputs": [
    {
     "name": "stdout",
     "output_type": "stream",
     "text": [
      "628949330\n",
      "390577533.93\n"
     ]
    }
   ],
   "source": [
    "tierra = 149597870\n",
    "jupiter = 778547200\n",
    "distancia = (jupiter - tierra)\n",
    "print(distancia)\n",
    "print (distancia  * 0.621)"
   ]
  },
  {
   "cell_type": "markdown",
   "metadata": {},
   "source": [
    "Ejercicio 2"
   ]
  },
  {
   "cell_type": "code",
   "execution_count": 4,
   "metadata": {},
   "outputs": [
    {
     "name": "stdout",
     "output_type": "stream",
     "text": [
      "20000\n",
      "12420.0\n"
     ]
    }
   ],
   "source": [
    "planeta1 = input(\"Introduce la distancia  del planeta 1\")\n",
    "planeta2 = input(\"Introduce la distancia del planeta 2\")\n",
    "planeta1 = int(planeta1)\n",
    "planeta2 = int(planeta2)\n",
    "distancia = abs(planeta1 - planeta2)\n",
    "print(distancia)\n",
    "print (distancia  * 0.621)"
   ]
  }
 ],
 "metadata": {
  "interpreter": {
   "hash": "1ccb0b23994abc472eff99ded0025451a0ae66ae4b925ffbd72741eb51da7773"
  },
  "kernelspec": {
   "display_name": "Python 3.10.2 64-bit",
   "language": "python",
   "name": "python3"
  },
  "language_info": {
   "codemirror_mode": {
    "name": "ipython",
    "version": 3
   },
   "file_extension": ".py",
   "mimetype": "text/x-python",
   "name": "python",
   "nbconvert_exporter": "python",
   "pygments_lexer": "ipython3",
   "version": "3.10.2"
  },
  "orig_nbformat": 4
 },
 "nbformat": 4,
 "nbformat_minor": 2
}
