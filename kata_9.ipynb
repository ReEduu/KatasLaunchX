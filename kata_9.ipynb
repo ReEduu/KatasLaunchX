{
 "cells": [
  {
   "cell_type": "markdown",
   "metadata": {},
   "source": [
    "Ejercicio 1"
   ]
  },
  {
   "cell_type": "code",
   "execution_count": 7,
   "metadata": {},
   "outputs": [
    {
     "data": {
      "text/plain": [
       "'\\nReporte\\n Combustible Promedio: 20.0%\\n Tanque 1: 15%\\n Tanque 2: 15%\\n tanque_3: 30% \\n'"
      ]
     },
     "execution_count": 7,
     "metadata": {},
     "output_type": "execute_result"
    }
   ],
   "source": [
    "def promedio_combustible(tanque_1,tanque_2,tanque_3):\n",
    "    promedio_c = promedio(tanque_1,tanque_2,tanque_3)\n",
    "    return f\"\\nReporte\\n Combustible Promedio: {promedio_c}%\\n Tanque 1: {tanque_1}%\\n Tanque 2: {tanque_2}%\\n tanque_3: {tanque_3}% \\n\"\n",
    "\n",
    "def promedio (tanque_1,tanque_2,tanque_3):\n",
    "    average = (tanque_1 + tanque_2 + tanque_3)/3\n",
    "    return average\n",
    "\n",
    "print(promedio_combustible(15,15,30))"
   ]
  },
  {
   "cell_type": "markdown",
   "metadata": {},
   "source": [
    "Ejercicio 2"
   ]
  },
  {
   "cell_type": "code",
   "execution_count": 14,
   "metadata": {},
   "outputs": [
    {
     "name": "stdout",
     "output_type": "stream",
     "text": [
      "\n",
      "Informe de la mision\n",
      " Hora de prelanzamiento:22\n",
      " Tiempo de vuelo: 60\n",
      " Destino: Mars\n",
      " Total de combustible: 70% \n",
      " tanque_1 tiene 20%\n",
      " tanque_2 tiene 10%\n",
      " tanque_3 tiene 40%\n",
      "\n"
     ]
    }
   ],
   "source": [
    "# Función con un informe preciso de la misión. Considera hora de prelanzamiento, tiempo de vuelo, destino, tanque externo y tanque interno\n",
    "def informe_mision(hora_pre,destino,*minutes, **fuel_reservoirs):\n",
    "    informe = f\"\\nInforme de la mision\\n Hora de prelanzamiento:{hora_pre}\\n Tiempo de vuelo: {sum(minutes)}\\n Destino: {destino}\\n Total de combustible: {sum(fuel_reservoirs.values())}% \\n\"\n",
    "    for tanque, combustible in fuel_reservoirs.items():\n",
    "        informe += f\" {tanque} tiene {combustible}%\\n\"\n",
    "    return informe\n",
    "print(informe_mision(22,\"Mars\", 10,20,30, tanque_1=20, tanque_2 =10, tanque_3=40))\n",
    "\n"
   ]
  }
 ],
 "metadata": {
  "interpreter": {
   "hash": "1ccb0b23994abc472eff99ded0025451a0ae66ae4b925ffbd72741eb51da7773"
  },
  "kernelspec": {
   "display_name": "Python 3.10.2 64-bit",
   "language": "python",
   "name": "python3"
  },
  "language_info": {
   "codemirror_mode": {
    "name": "ipython",
    "version": 3
   },
   "file_extension": ".py",
   "mimetype": "text/x-python",
   "name": "python",
   "nbconvert_exporter": "python",
   "pygments_lexer": "ipython3",
   "version": "3.10.2"
  },
  "orig_nbformat": 4
 },
 "nbformat": 4,
 "nbformat_minor": 2
}
